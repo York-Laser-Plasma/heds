{
 "cells": [
  {
   "metadata": {
    "ExecuteTime": {
     "end_time": "2024-11-30T16:28:55.681435Z",
     "start_time": "2024-11-30T16:28:54.447865Z"
    }
   },
   "cell_type": "code",
   "source": "from FLASH_Data_Reader import *",
   "id": "86d2ed5de45bb711",
   "outputs": [],
   "execution_count": 1
  },
  {
   "cell_type": "code",
   "execution_count": null,
   "id": "initial_id",
   "metadata": {
    "collapsed": true
   },
   "outputs": [],
   "source": [
    "file_dir = 'heds/TestData'\n",
    "file_sub_dir = '\n",
    "filename_pattern = 'radslab_hdf5_plt_cnt_????'\n",
    "\n",
    "save_path = os.path.join(file_dir, file_sub_dir,\"post-processing\")\n",
    "lam = 0.532\n",
    "nc = (1.115 * 1e21/lam**2)\n",
    "\n",
    "data = load_and_process_data(file_dir, file_sub_dir, filename_pattern, lrefine_max=3)"
   ]
  }
 ],
 "metadata": {
  "kernelspec": {
   "display_name": "Python 3",
   "language": "python",
   "name": "python3"
  },
  "language_info": {
   "codemirror_mode": {
    "name": "ipython",
    "version": 2
   },
   "file_extension": ".py",
   "mimetype": "text/x-python",
   "name": "python",
   "nbconvert_exporter": "python",
   "pygments_lexer": "ipython2",
   "version": "2.7.6"
  }
 },
 "nbformat": 4,
 "nbformat_minor": 5
}
